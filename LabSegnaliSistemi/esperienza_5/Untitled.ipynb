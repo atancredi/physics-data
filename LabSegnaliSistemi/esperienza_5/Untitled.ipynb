{
 "cells": [
  {
   "cell_type": "code",
   "execution_count": 8,
   "id": "33741f9f",
   "metadata": {},
   "outputs": [],
   "source": [
    "import numpy as np\n"
   ]
  },
  {
   "cell_type": "code",
   "execution_count": 11,
   "id": "52f0d5fa",
   "metadata": {},
   "outputs": [
    {
     "name": "stdout",
     "output_type": "stream",
     "text": [
      "[ 10.  40. 160. 630.]\n",
      "[   880.   1210.   1680.   2340.   3240.   4490.   6230.   8650.  11990.\n",
      "  16640.  23080.  32010.  44400.  61580.  85420. 118490. 164360. 227980.\n",
      " 316230.]\n",
      "[500, 750, 800, 950, 1000, 1050, 1100, 1150, 1300, 1500]\n"
     ]
    }
   ],
   "source": [
    "#frequenze suggerite\n",
    "print(np.logspace(1,2.8, 4, base=10).round(-1))\n",
    "print(np.logspace(2.8,5.5, 20,base=10).round(-1)[1:])\n",
    "\n",
    "#frequenze intorno alla frequenza di taglio\n",
    "print([500,750,800,950,1000,1050,1100,1150,1300,1500])"
   ]
  },
  {
   "cell_type": "code",
   "execution_count": null,
   "id": "701dfdc4",
   "metadata": {},
   "outputs": [],
   "source": [
    "freq = [9.330,40.653,] #Hz\n",
    "vin = [0.980,0.960] #V\n",
    "vout = [2.26,2.27] #V"
   ]
  }
 ],
 "metadata": {
  "kernelspec": {
   "display_name": "Python 3 (ipykernel)",
   "language": "python",
   "name": "python3"
  },
  "language_info": {
   "codemirror_mode": {
    "name": "ipython",
    "version": 3
   },
   "file_extension": ".py",
   "mimetype": "text/x-python",
   "name": "python",
   "nbconvert_exporter": "python",
   "pygments_lexer": "ipython3",
   "version": "3.7.8"
  }
 },
 "nbformat": 4,
 "nbformat_minor": 5
}
