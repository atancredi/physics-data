{
 "cells": [
  {
   "cell_type": "code",
   "execution_count": 90,
   "metadata": {},
   "outputs": [],
   "source": [
    "import pandas as pd\n",
    "import numpy as np\n",
    "from statistics import mean\n",
    "import matplotlib.pyplot as plt\n",
    "import matplotlib as mpl\n",
    "mpl.rcParams['figure.dpi'] = 150"
   ]
  },
  {
   "cell_type": "code",
   "execution_count": null,
   "metadata": {},
   "outputs": [],
   "source": []
  },
  {
   "cell_type": "code",
   "execution_count": 120,
   "metadata": {},
   "outputs": [
    {
     "ename": "SyntaxError",
     "evalue": "invalid syntax (Temp/ipykernel_24988/3777470389.py, line 45)",
     "output_type": "error",
     "traceback": [
      "\u001b[1;36m  File \u001b[1;32m\"C:\\Users\\aless\\AppData\\Local\\Temp/ipykernel_24988/3777470389.py\"\u001b[1;36m, line \u001b[1;32m45\u001b[0m\n\u001b[1;33m    plt.plot(x, v1, color=\"green\", label=\"ingresso 1\")\u001b[0m\n\u001b[1;37m      ^\u001b[0m\n\u001b[1;31mSyntaxError\u001b[0m\u001b[1;31m:\u001b[0m invalid syntax\n"
     ]
    }
   ],
   "source": [
    "j=2\n",
    "\n",
    "df = pd.read_csv(\"scope_{}.csv\".format(j))\n",
    "\n",
    "x =[]\n",
    "v1 = []\n",
    "stepponix = []\n",
    "steppinix = []\n",
    "stepponiy = []\n",
    "steppiniy = []\n",
    "buff = []\n",
    "buffx = []\n",
    "steppies = []\n",
    "mediex = []\n",
    "k = 0\n",
    "\n",
    "for i in df[\"x-axis\"][1:]:\n",
    "    k+=1\n",
    "    h = float(df[\"2\"][k])\n",
    "    if float(i) > (0.07199999999999995-1) and float(i) < 0.26:\n",
    "        x.append(float(i)+1)\n",
    "        v1.append(h)\n",
    "        \n",
    "        if(k < len(df[\"2\"])-1):\n",
    "            #mostro i punti che hanno differenza di v maggiore di 0.5 (i piccoli steppini)\n",
    "            if (float(df[\"2\"][k+1]) - h) > -0.271:\n",
    "                #print(\"Steppino al tempo \"+str(float(i)+1))\n",
    "                steppinix.append(float(i)+1)\n",
    "                buff.append(h)\n",
    "                buffx.append(float(i)+1)\n",
    "                steppiniy.append(h)\n",
    "            else:\n",
    "                #print(mean(buff))\n",
    "                steppies.append(mean(buff))\n",
    "                mediex.append(mean(buffx))\n",
    "                buff = []\n",
    "                buffx = []\n",
    "\n",
    "steppies.append(mean(buff))\n",
    "mediex.append(mean(buffx))\n",
    "    \n",
    "x = np.array(x)\n",
    "v1 = np.array(v1\n",
    "\n",
    "plt.plot(x, v1, color=\"green\", label=\"ingresso 1\")\n",
    "plt.plot(mediex,steppies, label=\"ideal\")\n",
    "\n",
    "#disegno una linea tratteggiata orizzontale per ogni livello di step\n",
    "#for i in steppiniy:\n",
    "    #plt.axhline(y=i, ls=\"--\")\n",
    "#for i in steppies:\n",
    "#    plt.axhline(y=i, ls=\"--\")\n",
    "\n",
    "#plt.scatter(steppinix, steppiniy, color=\"red\")\n",
    "#plt.plot(x, v2, color=\"yellow\", label=\"ingresso 2\")\n",
    "plt.xlabel(\"Tempo t (s)\")\n",
    "plt.ylabel(\"V (V)\")\n",
    "plt.grid()\n",
    "plt.legend()\n",
    "plt.title(\"Vista oscilloscopio\")\n",
    "plt.savefig(\"scope_{}.png\".format(j), dpi=150)"
   ]
  },
  {
   "cell_type": "code",
   "execution_count": null,
   "metadata": {},
   "outputs": [],
   "source": []
  },
  {
   "cell_type": "code",
   "execution_count": null,
   "metadata": {},
   "outputs": [],
   "source": []
  }
 ],
 "metadata": {
  "interpreter": {
   "hash": "916dbcbb3f70747c44a77c7bcd40155683ae19c65e1c03b4aa3499c5328201f1"
  },
  "kernelspec": {
   "display_name": "Python 3 (ipykernel)",
   "language": "python",
   "name": "python3"
  },
  "language_info": {
   "codemirror_mode": {
    "name": "ipython",
    "version": 3
   },
   "file_extension": ".py",
   "mimetype": "text/x-python",
   "name": "python",
   "nbconvert_exporter": "python",
   "pygments_lexer": "ipython3",
   "version": "3.7.8"
  }
 },
 "nbformat": 4,
 "nbformat_minor": 2
}
