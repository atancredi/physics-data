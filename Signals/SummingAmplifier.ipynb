{
 "cells": [
  {
   "cell_type": "markdown",
   "id": "08f7be7c",
   "metadata": {},
   "source": [
    "# Non-Inverting Summing Amplifier\n",
    "\n",
    "solution:\n",
    "$V_{O} = (V_1\\frac{R_2}{R_1+R_2} + V_2\\frac{R_1}{R_1+R_2})(1+\\frac{R_4}{R_3})$\n"
   ]
  },
  {
   "cell_type": "code",
   "execution_count": 12,
   "id": "91d19cec",
   "metadata": {},
   "outputs": [],
   "source": [
    "import signals as s\n",
    "import matplotlib.pyplot as plt\n",
    "import numpy as np"
   ]
  },
  {
   "cell_type": "code",
   "execution_count": 13,
   "id": "cb3e6dad",
   "metadata": {},
   "outputs": [
    {
     "name": "stdout",
     "output_type": "stream",
     "text": [
      "0.675987069960748\n"
     ]
    }
   ],
   "source": [
    "config = { #dati dell'esperienza 4 di labss\n",
    "    \"R1\": 100200,\n",
    "    \"R2\": 100200,\n",
    "    \"R3\": 2175,\n",
    "    \"R4\": 4331\n",
    "}\n",
    "print(s.Summing(0.2,0.7,config))"
   ]
  },
  {
   "cell_type": "code",
   "execution_count": 14,
   "id": "3974c699",
   "metadata": {},
   "outputs": [
    {
     "ename": "NameError",
     "evalue": "name 'numpy' is not defined",
     "output_type": "error",
     "traceback": [
      "\u001b[1;31m---------------------------------------------------------------------------\u001b[0m",
      "\u001b[1;31mNameError\u001b[0m                                 Traceback (most recent call last)",
      "\u001b[1;32m~\\AppData\\Local\\Temp/ipykernel_23032/2236990799.py\u001b[0m in \u001b[0;36m<module>\u001b[1;34m\u001b[0m\n\u001b[0;32m      2\u001b[0m \u001b[0mdx\u001b[0m \u001b[1;33m=\u001b[0m \u001b[1;36m0.05\u001b[0m\u001b[1;33m\u001b[0m\u001b[1;33m\u001b[0m\u001b[0m\n\u001b[0;32m      3\u001b[0m \u001b[0mx_lim\u001b[0m \u001b[1;33m=\u001b[0m \u001b[1;36m12\u001b[0m\u001b[1;33m\u001b[0m\u001b[1;33m\u001b[0m\u001b[0m\n\u001b[1;32m----> 4\u001b[1;33m \u001b[0mx\u001b[0m \u001b[1;33m=\u001b[0m \u001b[0mnumpy\u001b[0m\u001b[1;33m.\u001b[0m\u001b[0marange\u001b[0m\u001b[1;33m(\u001b[0m\u001b[1;33m-\u001b[0m\u001b[0mx_lim\u001b[0m\u001b[1;33m,\u001b[0m\u001b[0mx_lim\u001b[0m\u001b[1;33m,\u001b[0m\u001b[0mdx\u001b[0m\u001b[1;33m)\u001b[0m\u001b[1;33m\u001b[0m\u001b[1;33m\u001b[0m\u001b[0m\n\u001b[0m\u001b[0;32m      5\u001b[0m \u001b[1;33m\u001b[0m\u001b[0m\n\u001b[0;32m      6\u001b[0m \u001b[0mplt\u001b[0m\u001b[1;33m.\u001b[0m\u001b[0mfigure\u001b[0m\u001b[1;33m(\u001b[0m\u001b[1;33m)\u001b[0m\u001b[1;33m\u001b[0m\u001b[1;33m\u001b[0m\u001b[0m\n",
      "\u001b[1;31mNameError\u001b[0m: name 'numpy' is not defined"
     ]
    }
   ],
   "source": [
    "#Discretized space\n",
    "dx = 0.05\n",
    "x_lim = 12\n",
    "x = numpy.arange(-x_lim,x_lim,dx)\n",
    "\n",
    "plt.figure()\n",
    "plt.plot(x, s.Summing(s.stationary_state(x,4), s.stationary_state(x,32)))\n",
    "#plt.xlabel(r\"x\")\n",
    "#plt.ylabel(r\"$\\psi_4(x)$\")\n",
    "plt.title(r\"Test Plot of $\\psi_{\"+str(sstate)+\"}(x)$\")\n",
    "plt.show()"
   ]
  },
  {
   "cell_type": "code",
   "execution_count": null,
   "id": "fbda7d02",
   "metadata": {},
   "outputs": [],
   "source": []
  }
 ],
 "metadata": {
  "kernelspec": {
   "display_name": "Python 3 (ipykernel)",
   "language": "python",
   "name": "python3"
  },
  "language_info": {
   "codemirror_mode": {
    "name": "ipython",
    "version": 3
   },
   "file_extension": ".py",
   "mimetype": "text/x-python",
   "name": "python",
   "nbconvert_exporter": "python",
   "pygments_lexer": "ipython3",
   "version": "3.7.8"
  }
 },
 "nbformat": 4,
 "nbformat_minor": 5
}
