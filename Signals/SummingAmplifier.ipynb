{
 "cells": [
  {
   "cell_type": "markdown",
   "id": "a4527c50",
   "metadata": {},
   "source": [
    "# Non-Inverting Summing Amplifier\n",
    "\n",
    "solution:\n",
    "$V_{O} = (V_1\\frac{R_2}{R_1+R_2} + V_2\\frac{R_1}{R_1+R_2})(1+\\frac{R_4}{R_3})$\n"
   ]
  },
  {
   "cell_type": "code",
   "execution_count": 3,
   "id": "32addf6f",
   "metadata": {},
   "outputs": [],
   "source": [
    "#function for summing 2 signals v1 and v2 with a non-inverting summing amplifier\n",
    "def Summing(v1,v2,config):\n",
    "    if (config[\"R1\"]+config[\"R2\"]) == 0 or config[\"R3\"] == 0:\n",
    "        return \"err\" #raise exception\n",
    "    return (v1*(config[\"R2\"]/(config[\"R1\"]+config[\"R2\"]))+v2*(config[\"R1\"]/(config[\"R1\"]+config[\"R2\"])))*(1+(config[\"R3\"]/config[\"R4\"]))"
   ]
  },
  {
   "cell_type": "code",
   "execution_count": 6,
   "id": "615244d4",
   "metadata": {},
   "outputs": [
    {
     "name": "stdout",
     "output_type": "stream",
     "text": [
      "0.675987069960748\n"
     ]
    }
   ],
   "source": [
    "config = { #dati dell'esperienza 4 di labss\n",
    "    \"R1\": 100200,\n",
    "    \"R2\": 100200,\n",
    "    \"R3\": 2175,\n",
    "    \"R4\": 4331\n",
    "}\n",
    "print(Summing(0.2,0.7,config))"
   ]
  },
  {
   "cell_type": "code",
   "execution_count": null,
   "id": "d8dd3fc5",
   "metadata": {},
   "outputs": [],
   "source": []
  }
 ],
 "metadata": {
  "kernelspec": {
   "display_name": "Python 3 (ipykernel)",
   "language": "python",
   "name": "python3"
  },
  "language_info": {
   "codemirror_mode": {
    "name": "ipython",
    "version": 3
   },
   "file_extension": ".py",
   "mimetype": "text/x-python",
   "name": "python",
   "nbconvert_exporter": "python",
   "pygments_lexer": "ipython3",
   "version": "3.7.8"
  }
 },
 "nbformat": 4,
 "nbformat_minor": 5
}
