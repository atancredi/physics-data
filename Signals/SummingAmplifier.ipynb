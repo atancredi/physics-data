{
 "cells": [
  {
   "cell_type": "markdown",
   "id": "c26f5a5e",
   "metadata": {},
   "source": [
    "# Non-Inverting Summing Amplifier\n",
    "\n",
    "solution:\n",
    "$V_{O} = (V_1\\frac{R_2}{R_1+R_2} + V_2\\frac{R_1}{R_1+R_2})(1+\\frac{R_4}{R_3})$\n"
   ]
  },
  {
   "cell_type": "code",
   "execution_count": null,
   "id": "f27f4cec",
   "metadata": {},
   "outputs": [],
   "source": [
    "import signal as s\n",
    "import matplotlib.pyplot as plt\n",
    "import numpy as np"
   ]
  },
  {
   "cell_type": "code",
   "execution_count": null,
   "id": "6bd7cb80",
   "metadata": {},
   "outputs": [],
   "source": [
    "config = { #dati dell'esperienza 4 di labss\n",
    "    \"R1\": 100200,\n",
    "    \"R2\": 100200,\n",
    "    \"R3\": 2175,\n",
    "    \"R4\": 4331\n",
    "}\n",
    "print(s.Summing(0.2,0.7,config))"
   ]
  },
  {
   "cell_type": "code",
   "execution_count": null,
   "id": "6fd7011c",
   "metadata": {},
   "outputs": [],
   "source": [
    "#Discretized space\n",
    "dx = 0.05\n",
    "x_lim = 12\n",
    "x = np.arange(-x_lim,x_lim,dx)\n",
    "\n",
    "print(s.Summing(s.stationary_state(x,4), s.stationary_state(x,32)))\n",
    "\n",
    "#plt.figure()\n",
    "#plt.plot(x, )\n",
    "#plt.xlabel(r\"x\")\n",
    "#plt.ylabel(r\"$\\psi_4(x)$\")\n",
    "#plt.title(r\"Test Plot of $\\psi_{\"+str(sstate)+\"}(x)$\")\n",
    "#plt.show()"
   ]
  },
  {
   "cell_type": "code",
   "execution_count": null,
   "id": "28c407b1",
   "metadata": {},
   "outputs": [],
   "source": []
  }
 ],
 "metadata": {
  "kernelspec": {
   "display_name": "Python 3 (ipykernel)",
   "language": "python",
   "name": "python3"
  },
  "language_info": {
   "codemirror_mode": {
    "name": "ipython",
    "version": 3
   },
   "file_extension": ".py",
   "mimetype": "text/x-python",
   "name": "python",
   "nbconvert_exporter": "python",
   "pygments_lexer": "ipython3",
   "version": "3.7.8"
  }
 },
 "nbformat": 4,
 "nbformat_minor": 5
}
