{
 "cells": [
  {
   "cell_type": "markdown",
   "id": "dcf4c50a",
   "metadata": {},
   "source": [
    "# Non-Inverting Summing Amplifier\n",
    "\n",
    "solution:\n",
    "$V_{O} = (V_1\\frac{R_2}{R_1+R_2} + V_2\\frac{R_1}{R_1+R_2})(1+\\frac{R_4}{R_3})$\n"
   ]
  },
  {
   "cell_type": "code",
   "execution_count": 7,
   "id": "d9bbd24b",
   "metadata": {},
   "outputs": [],
   "source": [
    "import signals as s"
   ]
  },
  {
   "cell_type": "code",
   "execution_count": 8,
   "id": "82a2cdc2",
   "metadata": {},
   "outputs": [
    {
     "name": "stdout",
     "output_type": "stream",
     "text": [
      "0.675987069960748\n"
     ]
    }
   ],
   "source": [
    "config = { #dati dell'esperienza 4 di labss\n",
    "    \"R1\": 100200,\n",
    "    \"R2\": 100200,\n",
    "    \"R3\": 2175,\n",
    "    \"R4\": 4331\n",
    "}\n",
    "print(s.Summing(0.2,0.7,config))"
   ]
  },
  {
   "cell_type": "code",
   "execution_count": null,
   "id": "89379809",
   "metadata": {},
   "outputs": [],
   "source": [
    "plt.figure()\n",
    "plt.plot(x, s.Summing(s.stationary_state(x,4), s.stationary_state(x,32)))\n",
    "plt.xlabel(r\"x\")\n",
    "plt.ylabel(r\"$\\psi_4(x)$\")\n",
    "plt.title(r\"Test Plot of $\\psi_{\"+str(sstate)+\"}(x)$\")\n",
    "plt.show()"
   ]
  }
 ],
 "metadata": {
  "kernelspec": {
   "display_name": "Python 3 (ipykernel)",
   "language": "python",
   "name": "python3"
  },
  "language_info": {
   "codemirror_mode": {
    "name": "ipython",
    "version": 3
   },
   "file_extension": ".py",
   "mimetype": "text/x-python",
   "name": "python",
   "nbconvert_exporter": "python",
   "pygments_lexer": "ipython3",
   "version": "3.7.8"
  }
 },
 "nbformat": 4,
 "nbformat_minor": 5
}
